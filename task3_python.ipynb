{
 "cells": [
  {
   "cell_type": "code",
   "execution_count": 2,
   "metadata": {},
   "outputs": [
    {
     "name": "stdout",
     "output_type": "stream",
     "text": [
      "[1, 2.5, 'a string', (2+1j), 'word', 78, 6, 'k', 6.5, '10']\n"
     ]
    }
   ],
   "source": [
    "\"\"\"1. Create a list of the 10 elements of four different types of Data Type like int, string, complex and float. \"\"\"\n",
    "\n",
    "l1= [1,2.5,'a string', 2+1j, 'word',78,2*3, 'k',6.5 ,'10']\n",
    "print(l1)"
   ]
  },
  {
   "cell_type": "code",
   "execution_count": 7,
   "metadata": {},
   "outputs": [
    {
     "data": {
      "text/plain": [
       "[3, 4, 5]"
      ]
     },
     "execution_count": 7,
     "metadata": {},
     "output_type": "execute_result"
    }
   ],
   "source": [
    "\"\"\"2. Create a list of size 5 and execute the slicing structure\"\"\"\n",
    "l2 =[1,2,3,4,5]\n",
    "\n",
    "#slice last 3 elements\n",
    "l2 = l2[2:]\n",
    "l2"
   ]
  },
  {
   "cell_type": "code",
   "execution_count": 19,
   "metadata": {},
   "outputs": [
    {
     "name": "stdout",
     "output_type": "stream",
     "text": [
      "328\n",
      "1020600000\n"
     ]
    }
   ],
   "source": [
    "\"\"\"3. Write a program to get the sum and multiply of all the items in a given list. \"\"\"\n",
    "l3=[80,45,50,63,90]\n",
    "#sum all elelemts\n",
    "l3_sum =sum(l3)\n",
    "print(l3_sum)\n",
    "#multiply all items by 10\n",
    "from functools import reduce\n",
    "\n",
    "\n",
    "l3_multiply = reduce(lambda x, y: x*y, l3)\n",
    "print(l3_multiply)"
   ]
  },
  {
   "cell_type": "code",
   "execution_count": 17,
   "metadata": {},
   "outputs": [
    {
     "name": "stdout",
     "output_type": "stream",
     "text": [
      "60\n",
      "10\n"
     ]
    }
   ],
   "source": [
    "\"\"\"4.   Find the largest and smallest number from a given list. \"\"\"\n",
    "l4 = [10,20,50,30,40,60]\n",
    "print(max(l4))\n",
    "print(min(l4))"
   ]
  },
  {
   "cell_type": "code",
   "execution_count": 22,
   "metadata": {},
   "outputs": [
    {
     "name": "stdout",
     "output_type": "stream",
     "text": [
      "[1, 2, 3, 4, 5, 6, 7, 8, 9, 10]\n",
      "[1, 3, 5, 7, 9]\n"
     ]
    }
   ],
   "source": [
    "\"\"\"5. Create a new list which contains the specified numbers after removing the even numbers from a predefined list.  \"\"\"\n",
    "l5 = [1,2,3,4,5,6,7,8,9,10]\n",
    "l5_odd = [x for x in l5 if x%2!=0]\n",
    "print(l5)\n",
    "print(l5_odd)\n"
   ]
  },
  {
   "cell_type": "code",
   "execution_count": 34,
   "metadata": {},
   "outputs": [
    {
     "name": "stdout",
     "output_type": "stream",
     "text": [
      "[1, 4, 9, 16, 25, 36]\n",
      "[256, 289, 324, 361, 400]\n"
     ]
    }
   ],
   "source": [
    "\"\"\"6. Create a list of first and last 5 elements where the values are square of numbers between 1 and 30 (both included). \"\"\"\n",
    "\n",
    "def printValues():\n",
    "    l = list()\n",
    "    for i in range(1,21):\n",
    "        l.append(i**2)\n",
    "    print(l[0:6])\n",
    "    print(l[-5:])\n",
    "\n",
    "printValues()"
   ]
  },
  {
   "cell_type": "code",
   "execution_count": 35,
   "metadata": {},
   "outputs": [
    {
     "name": "stdout",
     "output_type": "stream",
     "text": [
      "[9, 10, 11, 12, 13, 14, 15]\n",
      "[16, 17, 18, 19, 20]\n",
      "[9, 10, 11, 12, 13, 14, [16, 17, 18, 19, 20]]\n"
     ]
    }
   ],
   "source": [
    "\"\"\"7. Write a program to replace the last element in a list with another list. \n",
    "\n",
    "Sample data: [[1,3,5,7,9,10],[2,4,6,8]] \n",
    "\n",
    "Expected output: [1,3,5,7,9,2,4,6,8] \"\"\"\n",
    "\n",
    "l7_1 = [9,10,11,12,13,14,15] \n",
    "l7_2 = [16,17,18,19,20]\n",
    "print(l7_1)\n",
    "print(l7_2)\n",
    "l7_1[-1] = l7_2\n",
    "print(l7_1)"
   ]
  },
  {
   "cell_type": "code",
   "execution_count": 37,
   "metadata": {},
   "outputs": [
    {
     "name": "stdout",
     "output_type": "stream",
     "text": [
      "None\n",
      "{1: 10, 2: 20, 3: 30, 4: 40}\n"
     ]
    }
   ],
   "source": [
    "\"\"\"8. Create a new dictionary by concatenating the following two dictionaries: \n",
    "\n",
    "a={1:10,2:20} \n",
    "\n",
    "b={3:30,4:40} \n",
    "\n",
    "Expected Result: {1:10,2:20,3:30,4:40} \n",
    "\"\"\"\n",
    "a={1:10,2:20} \n",
    "\n",
    "b={3:30,4:40} \n",
    "\n",
    "result = a.update(b)\n",
    "\n",
    "print(result)\n",
    "print(a)"
   ]
  },
  {
   "cell_type": "code",
   "execution_count": null,
   "metadata": {},
   "outputs": [],
   "source": []
  }
 ],
 "metadata": {
  "kernelspec": {
   "display_name": "Python 3",
   "language": "python",
   "name": "python3"
  },
  "language_info": {
   "codemirror_mode": {
    "name": "ipython",
    "version": 3
   },
   "file_extension": ".py",
   "mimetype": "text/x-python",
   "name": "python",
   "nbconvert_exporter": "python",
   "pygments_lexer": "ipython3",
   "version": "3.7.1"
  }
 },
 "nbformat": 4,
 "nbformat_minor": 2
}
