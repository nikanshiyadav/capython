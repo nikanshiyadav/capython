{
 "cells": [
  {
   "cell_type": "code",
   "execution_count": 1,
   "metadata": {},
   "outputs": [
    {
     "name": "stdout",
     "output_type": "stream",
     "text": [
      "[1, (1+2j), 'apr', 8.5]\n"
     ]
    }
   ],
   "source": [
    "\"\"\"1. Create a list of the 10 elements of four different types of Data Types like int, string, complex and float. \"\"\"\n",
    "\n",
    "l1 = [1, 1+2j, 'apr', 8.5]\n",
    "print(l1)"
   ]
  },
  {
   "cell_type": "code",
   "execution_count": 2,
   "metadata": {},
   "outputs": [
    {
     "data": {
      "text/plain": [
       "[3, 4, 5]"
      ]
     },
     "execution_count": 2,
     "metadata": {},
     "output_type": "execute_result"
    }
   ],
   "source": [
    "\"\"\"2. Create a list of size 5 and execute the slicing structure  \"\"\"\n",
    "l2 =[1,2,3,4,5]\n",
    "\n",
    "#slice last 3 elements\n",
    "l2 = l2[2:]\n",
    "l2"
   ]
  },
  {
   "cell_type": "code",
   "execution_count": 23,
   "metadata": {},
   "outputs": [
    {
     "name": "stdout",
     "output_type": "stream",
     "text": [
      "[1, 2, 3, 4, 5]\n",
      "[600, 700]\n",
      "100 300 500 600 800\n",
      "[800, 700, 600, [1, 2, 3, 4, 5, [10, 20, 30, 40, 50], 6, 7, 8, 9], 500, 400, 300, 200, 100]\n",
      "10\n"
     ]
    }
   ],
   "source": [
    "\"\"\"x=[100,200,300,400,500,[1,2,3,4,5,[10,20,30,40,50],6,7,8,9],600,700,800] \n",
    "\n",
    "Access list [1, 2, 3, 4, 5] \n",
    "\n",
    "Access list [600,  700] \n",
    "\n",
    "Access list [100, 300, 500, 600, 800] \n",
    "\n",
    "Access list [[800, 700, 600, [1, 2, 3, 4, 5, [10, 20, 30, 40, 50], 6, 7, 8, 9], 500, 400, 300, 200, 100]:] \n",
    "\n",
    "Access list [10] \n",
    "\n",
    "Access list [ ] \"\"\"\n",
    "\n",
    "x=[100,200,300,400,500,[1,2,3,4,5,[10,20,30,40,50],6,7,8,9],600,700,800] \n",
    "\n",
    "print(x[5][0:5])\n",
    "print(x[-3:-1])\n",
    "print(x[0],x[2],x[4],x[-3],x[-1])\n",
    "print(x[::-1])\n",
    "print(x[5][5][0])\n"
   ]
  },
  {
   "cell_type": "code",
   "execution_count": 25,
   "metadata": {},
   "outputs": [
    {
     "name": "stdout",
     "output_type": "stream",
     "text": [
      "<class 'list'>\n"
     ]
    },
    {
     "ename": "NameError",
     "evalue": "name 'xrange' is not defined",
     "output_type": "error",
     "traceback": [
      "\u001b[1;31m---------------------------------------------------------------------------\u001b[0m",
      "\u001b[1;31mNameError\u001b[0m                                 Traceback (most recent call last)",
      "\u001b[1;32m<ipython-input-25-4c3c90520a97>\u001b[0m in \u001b[0;36m<module>\u001b[1;34m\u001b[0m\n\u001b[0;32m      3\u001b[0m \u001b[0mprint\u001b[0m\u001b[1;33m(\u001b[0m\u001b[0mtype\u001b[0m\u001b[1;33m(\u001b[0m\u001b[0mlr\u001b[0m\u001b[1;33m)\u001b[0m\u001b[1;33m)\u001b[0m\u001b[1;33m\u001b[0m\u001b[1;33m\u001b[0m\u001b[0m\n\u001b[0;32m      4\u001b[0m \u001b[1;33m\u001b[0m\u001b[0m\n\u001b[1;32m----> 5\u001b[1;33m \u001b[0mlxr\u001b[0m \u001b[1;33m=\u001b[0m \u001b[0mlist\u001b[0m\u001b[1;33m(\u001b[0m\u001b[0mxrange\u001b[0m\u001b[1;33m(\u001b[0m\u001b[1;36m1\u001b[0m\u001b[1;33m,\u001b[0m\u001b[1;36m1001\u001b[0m\u001b[1;33m)\u001b[0m\u001b[1;33m)\u001b[0m\u001b[1;33m\u001b[0m\u001b[1;33m\u001b[0m\u001b[0m\n\u001b[0m\u001b[0;32m      6\u001b[0m \u001b[0mprint\u001b[0m\u001b[1;33m(\u001b[0m\u001b[0mlxr\u001b[0m\u001b[1;33m)\u001b[0m\u001b[1;33m\u001b[0m\u001b[1;33m\u001b[0m\u001b[0m\n",
      "\u001b[1;31mNameError\u001b[0m: name 'xrange' is not defined"
     ]
    }
   ],
   "source": [
    "\"4. Create a list of thousand number using range and xrange and see the difference between each other. \"\n",
    "lr = list(range(1,1001))\n",
    "print(type(lr))\n",
    "\n",
    "lxr = list(xrange(1,1001))\n",
    "print(lxr)"
   ]
  },
  {
   "cell_type": "code",
   "execution_count": 26,
   "metadata": {},
   "outputs": [
    {
     "name": "stdout",
     "output_type": "stream",
     "text": [
      "6\n",
      "12\n",
      "18\n",
      "24\n",
      "30\n",
      "36\n",
      "42\n",
      "48\n",
      "54\n",
      "60\n",
      "66\n",
      "72\n",
      "78\n",
      "84\n",
      "90\n",
      "96\n",
      "102\n",
      "108\n",
      "114\n",
      "120\n",
      "126\n",
      "132\n",
      "138\n",
      "144\n",
      "150\n",
      "156\n",
      "162\n",
      "168\n",
      "174\n",
      "180\n",
      "186\n",
      "192\n",
      "198\n",
      "204\n",
      "210\n",
      "216\n",
      "222\n",
      "228\n",
      "234\n",
      "240\n",
      "246\n",
      "252\n",
      "258\n",
      "264\n",
      "270\n",
      "276\n",
      "282\n",
      "288\n",
      "294\n",
      "300\n",
      "306\n",
      "312\n",
      "318\n",
      "324\n",
      "330\n",
      "336\n",
      "342\n",
      "348\n",
      "354\n",
      "360\n",
      "366\n",
      "372\n",
      "378\n",
      "384\n",
      "390\n",
      "396\n",
      "402\n",
      "408\n",
      "414\n",
      "420\n",
      "426\n",
      "432\n",
      "438\n",
      "444\n",
      "450\n",
      "456\n",
      "462\n",
      "468\n",
      "474\n",
      "480\n",
      "486\n",
      "492\n",
      "498\n",
      "504\n",
      "510\n",
      "516\n",
      "522\n",
      "528\n",
      "534\n",
      "540\n",
      "546\n",
      "552\n",
      "558\n",
      "564\n",
      "570\n",
      "576\n",
      "582\n",
      "588\n",
      "594\n",
      "600\n",
      "606\n",
      "612\n",
      "618\n",
      "624\n",
      "630\n",
      "636\n",
      "642\n",
      "648\n",
      "654\n",
      "660\n",
      "666\n",
      "672\n",
      "678\n",
      "684\n",
      "690\n",
      "696\n",
      "702\n",
      "708\n",
      "714\n",
      "720\n",
      "726\n",
      "732\n",
      "738\n",
      "744\n",
      "750\n",
      "756\n",
      "762\n",
      "768\n",
      "774\n",
      "780\n",
      "786\n",
      "792\n",
      "798\n",
      "804\n",
      "810\n",
      "816\n",
      "822\n",
      "828\n",
      "834\n",
      "840\n",
      "846\n",
      "852\n",
      "858\n",
      "864\n",
      "870\n",
      "876\n",
      "882\n",
      "888\n",
      "894\n",
      "900\n",
      "906\n",
      "912\n",
      "918\n",
      "924\n",
      "930\n",
      "936\n",
      "942\n",
      "948\n",
      "954\n",
      "960\n",
      "966\n",
      "972\n",
      "978\n",
      "984\n",
      "990\n",
      "996\n"
     ]
    }
   ],
   "source": [
    "\"\"\"6. Write a program in Python to iterate through the list of numbers in the range of 1,100 and print the number which is divisible by 3 and a multiple of 2. \"\"\"\n",
    "l = list(range(1,1001))\n",
    "\n",
    "for x in l:\n",
    "    if x%3==0 and x%2==0:\n",
    "        print(x)\n",
    "    else:\n",
    "        continue\n",
    "             "
   ]
  },
  {
   "cell_type": "code",
   "execution_count": 2,
   "metadata": {},
   "outputs": [
    {
     "name": "stdout",
     "output_type": "stream",
     "text": [
      "u\n",
      "o\n",
      "e\n",
      "i\n",
      "e\n",
      "a\n",
      "i\n",
      "i\n"
     ]
    }
   ],
   "source": [
    "\"\"\"7. Write a program in Python to reverse a string and \n",
    "print only the vowel alphabet if exist in the string with their index. \"\"\"\n",
    "\n",
    "def revVowel(s):\n",
    "    rev= s[::-1]\n",
    "    vowels = ['a','e','i','o','u']\n",
    "    for l in rev:\n",
    "        if l in vowels:\n",
    "            print(l)\n",
    "\n",
    "revVowel('this is a test string e o u')"
   ]
  },
  {
   "cell_type": "code",
   "execution_count": null,
   "metadata": {},
   "outputs": [],
   "source": []
  }
 ],
 "metadata": {
  "kernelspec": {
   "display_name": "Python 3",
   "language": "python",
   "name": "python3"
  },
  "language_info": {
   "codemirror_mode": {
    "name": "ipython",
    "version": 3
   },
   "file_extension": ".py",
   "mimetype": "text/x-python",
   "name": "python",
   "nbconvert_exporter": "python",
   "pygments_lexer": "ipython3",
   "version": "3.7.1"
  }
 },
 "nbformat": 4,
 "nbformat_minor": 2
}
