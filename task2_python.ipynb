{
 "cells": [
  {
   "cell_type": "markdown",
   "metadata": {},
   "source": [
    "# Python Assignment 2"
   ]
  },
  {
   "cell_type": "code",
   "execution_count": null,
   "metadata": {},
   "outputs": [],
   "source": [
    "#question 1\n",
    "def f1(x):\n",
    "    if x % 3 == 0:\n",
    "        y = (\"ConsultAdd\")\n",
    "    if x % 5 == 0:\n",
    "        y= ('c')\n",
    "    if x % 3 == 0 and x % 5 == 0:\n",
    "        y=('ConsultAdd Python Training')\n",
    "    return y    \n",
    "\n",
    "\n",
    "#calling the function    \n",
    "f1(9)\n"
   ]
  },
  {
   "cell_type": "code",
   "execution_count": null,
   "metadata": {},
   "outputs": [],
   "source": [
    "#question 2\n",
    "##stuck\n",
    "def f2()"
   ]
  },
  {
   "cell_type": "code",
   "execution_count": null,
   "metadata": {},
   "outputs": [],
   "source": [
    "##question 3\n",
    "a, b, c = 10, 20, 30\n",
    "\n",
    "avg = (a +b +c)/3\n",
    "\n",
    "print(\"avg \", avg)\n",
    "\n",
    "if avg > a and b and c:\n",
    "    print(\"avg is higher than a, b, c\")\n",
    "if avg > a and b:\n",
    "    print(\"avg is higher than a, b\")\n",
    "if avg > a and c:\n",
    "    print(\"avg is higher than a, c\")\n",
    "if avg > b and c:\n",
    "    print(\"avg is higher than b, c\")\n",
    "if avg > a:\n",
    "    print(\" avg is just higher than a\")\n",
    "if avg > b:\n",
    "    print(\"avg is just higher than b\")\n",
    "if avg > c:\n",
    "    print(\"avg is just higher than c\")\n"
   ]
  },
  {
   "cell_type": "code",
   "execution_count": null,
   "metadata": {},
   "outputs": [],
   "source": [
    "#question 4\n",
    "num = int(input(\"Enter an integer\"))\n",
    "\n",
    "while num > 0:\n",
    "    print(\"good going\")\n",
    "    if num < 0:\n",
    "        print(\"it's over\")\n",
    "        break\n",
    "    \n",
    "    "
   ]
  },
  {
   "cell_type": "code",
   "execution_count": null,
   "metadata": {},
   "outputs": [],
   "source": [
    "#question 5\n",
    "n1= [*range(2000,3201,1)]\n",
    "# print(n1)\n",
    "for i in n1:\n",
    "    if i%7 == 0 and i%5 != 0:\n",
    "        print(i)\n",
    "      "
   ]
  },
  {
   "cell_type": "markdown",
   "metadata": {},
   "source": [
    "#question 6\n",
    "a) output should be 1, 2 ,3. The algorithm while print the individual integers in 123\n",
    "\n",
    "b) out put should be:\n",
    "0\n",
    "1\n",
    "2\n",
    "3\n",
    "\n",
    "the loop will stop when i is equal to 3\n",
    "\n",
    "c) output shpuld be:\n",
    "0\n",
    "1\n",
    "2\n",
    "3\n",
    "4\n",
    "\n",
    "the loop will break once count reaches the value 5"
   ]
  },
  {
   "cell_type": "code",
   "execution_count": null,
   "metadata": {},
   "outputs": [],
   "source": [
    "##question 7\n",
    "nums = [0,1,2,3,4,5,6]\n",
    "for num in nums:\n",
    "    if num != 3 and num != 6:\n",
    "        print(num)\n",
    "        continue\n",
    "#     else:\n",
    "#         break"
   ]
  },
  {
   "cell_type": "code",
   "execution_count": null,
   "metadata": {},
   "outputs": [],
   "source": [
    "#question8\n",
    "x= input('enter an alphanumeric value')\n",
    "y=z=0\n",
    "for i in x:\n",
    "    if i.isdigit():\n",
    "        y = y+ 1\n",
    "    elif i.isalpha():\n",
    "        z = z+1\n",
    "    else: pass\n",
    "print(\"Letter \", z, ' ', 'Digits ', y)    \n",
    "    "
   ]
  },
  {
   "cell_type": "code",
   "execution_count": null,
   "metadata": {},
   "outputs": [],
   "source": [
    "#question9\n",
    "val = int(input('enter guess'))  \n",
    "lucky_number = 10 #change number here\n",
    "while val == lucky_number:\n",
    "    print('you guessed correct')\n",
    "#     break\n",
    "    while val != lucky_number:\n",
    "        print(\"That is not the lucky number\")\n",
    "        play_again = input(\"Would you like to guess again? \")\n",
    "        if play_again != \"no\":\n",
    "            continue"
   ]
  },
  {
   "cell_type": "code",
   "execution_count": null,
   "metadata": {},
   "outputs": [],
   "source": [
    "#question10\n",
    "counter = 1\n",
    "correct_num = 9\n",
    "while counter <= 5:\n",
    "    number = input(\"Guess # \" + str(counter)+ ': ')\n",
    "    if number != correct_num:\n",
    "          print (\"Try again.\")\n",
    "    else:\n",
    "        print(\"Good guess!\")\n",
    "    counter = counter +1\n",
    "else:\n",
    "        print (\"Game over\")"
   ]
  },
  {
   "cell_type": "code",
   "execution_count": null,
   "metadata": {},
   "outputs": [],
   "source": [
    "#question11\n",
    "counter = 1\n",
    "correct_num = 9\n",
    "while counter <= 5:\n",
    "    number = input(\"Guess # \" + str(counter)+ ': ')\n",
    "    if number != correct_num:\n",
    "          print (\"Try again.\")\n",
    "    else:\n",
    "        print(\"Good guess!\")\n",
    "        break\n",
    "        print('break')\n",
    "    counter = counter +1\n",
    "else:\n",
    "    print('Sorry but that was not very successful')"
   ]
  },
  {
   "cell_type": "code",
   "execution_count": null,
   "metadata": {},
   "outputs": [],
   "source": []
  }
 ],
 "metadata": {
  "kernelspec": {
   "display_name": "Python 3",
   "language": "python",
   "name": "python3"
  },
  "language_info": {
   "codemirror_mode": {
    "name": "ipython",
    "version": 3
   },
   "file_extension": ".py",
   "mimetype": "text/x-python",
   "name": "python",
   "nbconvert_exporter": "python",
   "pygments_lexer": "ipython3",
   "version": "3.7.1"
  }
 },
 "nbformat": 4,
 "nbformat_minor": 2
}
